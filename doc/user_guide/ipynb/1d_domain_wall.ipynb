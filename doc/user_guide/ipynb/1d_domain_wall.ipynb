{
 "cells": [
  {
   "cell_type": "markdown",
   "metadata": {},
   "source": [
    "# 1D domain wall"
   ]
  },
  {
   "cell_type": "markdown",
   "metadata": {},
   "source": [
    "**Author**: Marijan Beg\n",
    "\n",
    "**Date**: 26/02/2016\n",
    "\n",
    "This notebook can be downloaded from the github repository, found [here](https://github.com/computationalmodelling/fidimag/blob/master/doc/ipynb/1d_domain_wall.ipynb)."
   ]
  },
  {
   "cell_type": "markdown",
   "metadata": {},
   "source": [
    "### Problem specification"
   ]
  },
  {
   "cell_type": "markdown",
   "metadata": {},
   "source": [
    "The domain wall profile is computed in a one-dimenaional domain of $L=500 \\,\\text{nm}$ length.\n",
    "\n",
    "Material paremeters of the simulated material are:\n",
    "\n",
    "- exchange energy constant $A = 1.3 \\times 10^{-11} \\,\\text{J/m}$,\n",
    "- magnetisation saturation $M_\\text{s} = 8.6 \\times 10^{5} \\,\\text{A/m}$,\n",
    "- anisotropy constant $K_{1} = 1.86 \\times 10^{5} \\,\\text{J/m}^{3}$ with $(1, 0, 0)$ axis,\n",
    "- anisotropy constant $K_{2} = -0.92 \\times 10^{5} \\,\\text{J/m}^{3}$ with $(0, 0, 1)$ axis."
   ]
  },
  {
   "cell_type": "markdown",
   "metadata": {},
   "source": [
    "### Simulation"
   ]
  },
  {
   "cell_type": "code",
   "execution_count": 1,
   "metadata": {},
   "outputs": [],
   "source": [
    "from fidimag.micro import Sim\n",
    "from fidimag.common import CuboidMesh\n",
    "from fidimag.micro import UniformExchange, UniaxialAnisotropy\n",
    "import numpy as np\n",
    "import matplotlib.pyplot as plt\n",
    "%matplotlib inline"
   ]
  },
  {
   "cell_type": "markdown",
   "metadata": {},
   "source": [
    "Firstly, the mesh is created."
   ]
  },
  {
   "cell_type": "code",
   "execution_count": 2,
   "metadata": {},
   "outputs": [],
   "source": [
    "# Mesh dimensions.\n",
    "L = 500  # diameter (nm)\n",
    "\n",
    "# Mesh discretisation.\n",
    "dx = dy = dz = 2  # nm\n",
    "\n",
    "mesh = CuboidMesh(nx=int(L/dx), ny=1, nz=1, dx=dx, dy=dy, dz=dz, unit_length=1e-9)"
   ]
  },
  {
   "cell_type": "markdown",
   "metadata": {},
   "source": [
    "The simulation object is created, parameters set, and energies added."
   ]
  },
  {
   "cell_type": "code",
   "execution_count": 3,
   "metadata": {},
   "outputs": [],
   "source": [
    "# NBVAL_IGNORE_OUTPUT\n",
    "Ms = 8.6e5  # magnetisation saturation (A/m)\n",
    "A = 1.3e-11  # exchange energy constant (J/m)\n",
    "K1 = 1.86e5  # anisotropy energy constant (J/m**3)\n",
    "K2 = -0.92e5  # anisotropy energy constant (J/m**3)\n",
    "alpha = 0.5  # Gilbert damping\n",
    "gamma = 2.211e5  # gyromagnetic ration (m/As)\n",
    "\n",
    "# Create simulation object.\n",
    "sim = Sim(mesh)\n",
    "\n",
    "# Set simulation parameters.\n",
    "sim.Ms = Ms\n",
    "sim.driver.alpha = alpha\n",
    "sim.driver.gamma = gamma\n",
    "\n",
    "# Add energies.\n",
    "sim.add(UniformExchange(A=A))\n",
    "sim.add(UniaxialAnisotropy(K1, axis=(1,0,0)))\n",
    "sim.add(UniaxialAnisotropy(K2, axis=(0,0,1)))\n",
    "    \n",
    "# Since the magnetisation dynamics is not important in this stage,\n",
    "# the precession term in LLG equation can be set to artificially zero.\n",
    "sim.driver.do_precession = False"
   ]
  },
  {
   "cell_type": "markdown",
   "metadata": {},
   "source": [
    "In order to obtain the domain wall as the relaxed state, the system must be appropriatelly initialised. In this case, the initial magnetisation is set to be in $(0, 0, 1)$ direction for $x < 0.4L \\,\\text{nm}$, in $(-1, 0, 0)$ direction for $0.4L \\,\\text{nm} < x < 0.6L \\,\\text{nm}$, and in $(0, 0, 1)$ direction for $x > 0.6L \\,\\text{nm}$."
   ]
  },
  {
   "cell_type": "code",
   "execution_count": 4,
   "metadata": {},
   "outputs": [],
   "source": [
    "def m_init(pos):\n",
    "    x = pos[0]\n",
    "\n",
    "    if x < 0.45*L:\n",
    "        return (1,0,0)\n",
    "    elif x > 0.55*L:\n",
    "        return (-1,0,0) \n",
    "    else:\n",
    "        return (0,1,0)"
   ]
  },
  {
   "cell_type": "markdown",
   "metadata": {},
   "source": [
    "In the next step, the magnetisation is initialised, and the system is relaxed."
   ]
  },
  {
   "cell_type": "code",
   "execution_count": 5,
   "metadata": {
    "scrolled": true
   },
   "outputs": [
    {
     "name": "stdout",
     "output_type": "stream",
     "text": [
      "#1    t=1e-13    dt=1e-13 max_dmdt=2.97e+04\n",
      "#2    t=2e-13    dt=1e-13 max_dmdt=2.79e+04\n",
      "#3    t=3e-13    dt=1e-13 max_dmdt=2.6e+04\n",
      "#4    t=4e-13    dt=1e-13 max_dmdt=2.41e+04\n",
      "#5    t=5e-13    dt=1e-13 max_dmdt=2.21e+04\n",
      "#6    t=6e-13    dt=1e-13 max_dmdt=2.02e+04\n",
      "#7    t=7e-13    dt=1e-13 max_dmdt=1.83e+04\n",
      "#8    t=8e-13    dt=1e-13 max_dmdt=1.66e+04\n",
      "#9    t=9e-13    dt=1e-13 max_dmdt=1.5e+04\n",
      "#10   t=1e-12    dt=1e-13 max_dmdt=1.36e+04\n",
      "#11   t=1.1e-12  dt=1e-13 max_dmdt=1.22e+04\n",
      "#12   t=1.2e-12  dt=1e-13 max_dmdt=1.1e+04\n",
      "#13   t=1.3e-12  dt=1e-13 max_dmdt=9.97e+03\n",
      "#14   t=1.4e-12  dt=1e-13 max_dmdt=9.01e+03\n",
      "#15   t=1.5e-12  dt=1e-13 max_dmdt=8.16e+03\n",
      "#16   t=1.6e-12  dt=1e-13 max_dmdt=7.4e+03\n",
      "#17   t=1.7e-12  dt=1e-13 max_dmdt=6.73e+03\n",
      "#18   t=1.8e-12  dt=1e-13 max_dmdt=6.44e+03\n",
      "#19   t=1.9e-12  dt=1e-13 max_dmdt=6.27e+03\n",
      "#20   t=2e-12    dt=1e-13 max_dmdt=6.1e+03\n",
      "#21   t=2.1e-12  dt=1e-13 max_dmdt=5.93e+03\n",
      "#22   t=2.2e-12  dt=1e-13 max_dmdt=5.76e+03\n",
      "#23   t=2.3e-12  dt=1e-13 max_dmdt=5.58e+03\n",
      "#24   t=2.4e-12  dt=1e-13 max_dmdt=5.41e+03\n",
      "#25   t=2.5e-12  dt=1e-13 max_dmdt=5.24e+03\n",
      "#26   t=2.6e-12  dt=1e-13 max_dmdt=5.07e+03\n",
      "#27   t=2.7e-12  dt=1e-13 max_dmdt=4.91e+03\n",
      "#28   t=2.82e-12 dt=1.23e-13 max_dmdt=4.73e+03\n",
      "#29   t=2.95e-12 dt=1.23e-13 max_dmdt=4.55e+03\n",
      "#30   t=3.07e-12 dt=1.23e-13 max_dmdt=4.37e+03\n",
      "#31   t=3.19e-12 dt=1.23e-13 max_dmdt=4.2e+03\n",
      "#32   t=3.32e-12 dt=1.23e-13 max_dmdt=4.04e+03\n",
      "#33   t=3.44e-12 dt=1.23e-13 max_dmdt=3.88e+03\n",
      "#34   t=3.56e-12 dt=1.23e-13 max_dmdt=3.74e+03\n",
      "#35   t=3.69e-12 dt=1.23e-13 max_dmdt=3.6e+03\n",
      "#36   t=3.81e-12 dt=1.23e-13 max_dmdt=3.47e+03\n",
      "#37   t=3.93e-12 dt=1.23e-13 max_dmdt=3.35e+03\n",
      "#38   t=4.06e-12 dt=1.23e-13 max_dmdt=3.23e+03\n",
      "#39   t=4.18e-12 dt=1.23e-13 max_dmdt=3.12e+03\n",
      "#40   t=4.3e-12  dt=1.23e-13 max_dmdt=3.02e+03\n",
      "#41   t=4.43e-12 dt=1.23e-13 max_dmdt=2.92e+03\n",
      "#42   t=4.55e-12 dt=1.23e-13 max_dmdt=2.83e+03\n",
      "#43   t=4.74e-12 dt=1.86e-13 max_dmdt=2.77e+03\n",
      "#44   t=4.92e-12 dt=1.86e-13 max_dmdt=2.71e+03\n",
      "#45   t=5.11e-12 dt=1.86e-13 max_dmdt=2.64e+03\n",
      "#46   t=5.3e-12  dt=1.86e-13 max_dmdt=2.58e+03\n",
      "#47   t=5.48e-12 dt=1.86e-13 max_dmdt=2.52e+03\n",
      "#48   t=5.67e-12 dt=1.86e-13 max_dmdt=2.46e+03\n",
      "#49   t=5.86e-12 dt=1.86e-13 max_dmdt=2.4e+03\n",
      "#50   t=6.04e-12 dt=1.86e-13 max_dmdt=2.34e+03\n",
      "#51   t=6.23e-12 dt=1.86e-13 max_dmdt=2.29e+03\n",
      "#52   t=6.41e-12 dt=1.86e-13 max_dmdt=2.24e+03\n",
      "#53   t=6.6e-12  dt=1.86e-13 max_dmdt=2.18e+03\n",
      "#54   t=6.79e-12 dt=1.86e-13 max_dmdt=2.13e+03\n",
      "#55   t=6.97e-12 dt=1.86e-13 max_dmdt=2.09e+03\n",
      "#56   t=7.26e-12 dt=2.82e-13 max_dmdt=2.03e+03\n",
      "#57   t=7.54e-12 dt=2.82e-13 max_dmdt=1.97e+03\n",
      "#58   t=7.82e-12 dt=2.82e-13 max_dmdt=1.9e+03\n",
      "#59   t=8.1e-12  dt=2.82e-13 max_dmdt=1.85e+03\n",
      "#60   t=8.38e-12 dt=2.82e-13 max_dmdt=1.79e+03\n",
      "#61   t=8.67e-12 dt=2.82e-13 max_dmdt=1.74e+03\n",
      "#62   t=8.95e-12 dt=2.82e-13 max_dmdt=1.69e+03\n",
      "#63   t=9.23e-12 dt=2.82e-13 max_dmdt=1.64e+03\n",
      "#64   t=9.51e-12 dt=2.82e-13 max_dmdt=1.61e+03\n",
      "#65   t=9.8e-12  dt=2.82e-13 max_dmdt=1.59e+03\n",
      "#66   t=1.01e-11 dt=2.82e-13 max_dmdt=1.56e+03\n",
      "#67   t=1.04e-11 dt=2.82e-13 max_dmdt=1.54e+03\n",
      "#68   t=1.06e-11 dt=2.82e-13 max_dmdt=1.51e+03\n",
      "#69   t=1.11e-11 dt=4.23e-13 max_dmdt=1.48e+03\n",
      "#70   t=1.15e-11 dt=4.23e-13 max_dmdt=1.45e+03\n",
      "#71   t=1.19e-11 dt=4.23e-13 max_dmdt=1.42e+03\n",
      "#72   t=1.23e-11 dt=4.23e-13 max_dmdt=1.39e+03\n",
      "#73   t=1.28e-11 dt=4.23e-13 max_dmdt=1.36e+03\n",
      "#74   t=1.32e-11 dt=4.23e-13 max_dmdt=1.33e+03\n",
      "#75   t=1.36e-11 dt=4.23e-13 max_dmdt=1.3e+03\n",
      "#76   t=1.4e-11  dt=4.23e-13 max_dmdt=1.27e+03\n",
      "#77   t=1.45e-11 dt=4.23e-13 max_dmdt=1.25e+03\n",
      "#78   t=1.49e-11 dt=4.23e-13 max_dmdt=1.22e+03\n",
      "#79   t=1.53e-11 dt=4.23e-13 max_dmdt=1.2e+03\n",
      "#80   t=1.57e-11 dt=4.23e-13 max_dmdt=1.18e+03\n",
      "#81   t=1.61e-11 dt=4.23e-13 max_dmdt=1.16e+03\n",
      "#82   t=1.68e-11 dt=6.4e-13 max_dmdt=1.15e+03\n",
      "#83   t=1.74e-11 dt=6.4e-13 max_dmdt=1.13e+03\n",
      "#84   t=1.81e-11 dt=6.4e-13 max_dmdt=1.11e+03\n",
      "#85   t=1.87e-11 dt=6.4e-13 max_dmdt=1.09e+03\n",
      "#86   t=1.93e-11 dt=6.4e-13 max_dmdt=1.08e+03\n",
      "#87   t=2e-11    dt=6.4e-13 max_dmdt=1.06e+03\n",
      "#88   t=2.06e-11 dt=6.4e-13 max_dmdt=1.04e+03\n",
      "#89   t=2.13e-11 dt=6.4e-13 max_dmdt=1.03e+03\n",
      "#90   t=2.19e-11 dt=6.4e-13 max_dmdt=1.01e+03\n",
      "#91   t=2.26e-11 dt=6.4e-13 max_dmdt=994\n",
      "#92   t=2.32e-11 dt=6.4e-13 max_dmdt=980\n",
      "#93   t=2.42e-11 dt=9.91e-13 max_dmdt=969\n",
      "#94   t=2.52e-11 dt=9.91e-13 max_dmdt=956\n",
      "#95   t=2.62e-11 dt=9.91e-13 max_dmdt=943\n",
      "#96   t=2.72e-11 dt=9.91e-13 max_dmdt=929\n",
      "#97   t=2.81e-11 dt=9.91e-13 max_dmdt=915\n",
      "#98   t=2.91e-11 dt=9.91e-13 max_dmdt=901\n",
      "#99   t=3.01e-11 dt=9.91e-13 max_dmdt=887\n",
      "#100  t=3.11e-11 dt=9.91e-13 max_dmdt=872\n",
      "#101  t=3.21e-11 dt=9.91e-13 max_dmdt=863\n",
      "#102  t=3.31e-11 dt=9.91e-13 max_dmdt=854\n",
      "#103  t=3.41e-11 dt=9.91e-13 max_dmdt=844\n",
      "#104  t=3.51e-11 dt=9.91e-13 max_dmdt=834\n",
      "#105  t=3.61e-11 dt=9.91e-13 max_dmdt=823\n",
      "#106  t=3.71e-11 dt=9.91e-13 max_dmdt=811\n",
      "#107  t=3.81e-11 dt=9.91e-13 max_dmdt=798\n",
      "#108  t=3.9e-11  dt=9.91e-13 max_dmdt=786\n",
      "#109  t=4.07e-11 dt=1.61e-12 max_dmdt=768\n",
      "#110  t=4.23e-11 dt=1.61e-12 max_dmdt=748\n",
      "#111  t=4.39e-11 dt=1.61e-12 max_dmdt=730\n",
      "#112  t=4.55e-11 dt=1.61e-12 max_dmdt=711\n",
      "#113  t=4.71e-11 dt=1.61e-12 max_dmdt=690\n",
      "#114  t=4.87e-11 dt=1.61e-12 max_dmdt=669\n",
      "#115  t=5.03e-11 dt=1.61e-12 max_dmdt=646\n",
      "#116  t=5.19e-11 dt=1.61e-12 max_dmdt=623\n",
      "#117  t=5.35e-11 dt=1.61e-12 max_dmdt=600\n",
      "#118  t=5.51e-11 dt=1.61e-12 max_dmdt=576\n",
      "#119  t=5.67e-11 dt=1.61e-12 max_dmdt=552\n",
      "#120  t=5.83e-11 dt=1.61e-12 max_dmdt=530\n",
      "#121  t=5.99e-11 dt=1.61e-12 max_dmdt=509\n",
      "#122  t=6.15e-11 dt=1.61e-12 max_dmdt=488\n",
      "#123  t=6.31e-11 dt=1.61e-12 max_dmdt=468\n",
      "#124  t=6.48e-11 dt=1.61e-12 max_dmdt=447\n",
      "#125  t=6.64e-11 dt=1.61e-12 max_dmdt=434\n",
      "#126  t=6.8e-11  dt=1.61e-12 max_dmdt=422\n",
      "#127  t=6.96e-11 dt=1.61e-12 max_dmdt=410\n",
      "#128  t=7.12e-11 dt=1.61e-12 max_dmdt=397\n",
      "#129  t=7.28e-11 dt=1.61e-12 max_dmdt=384\n",
      "#130  t=7.44e-11 dt=1.61e-12 max_dmdt=371\n",
      "#131  t=7.6e-11  dt=1.61e-12 max_dmdt=357\n",
      "#132  t=7.76e-11 dt=1.61e-12 max_dmdt=344\n",
      "#133  t=7.92e-11 dt=1.61e-12 max_dmdt=331\n",
      "#134  t=8.08e-11 dt=1.61e-12 max_dmdt=318\n",
      "#135  t=8.24e-11 dt=1.61e-12 max_dmdt=306\n",
      "#136  t=8.4e-11  dt=1.61e-12 max_dmdt=293\n",
      "#137  t=8.56e-11 dt=1.61e-12 max_dmdt=281\n",
      "#138  t=8.72e-11 dt=1.61e-12 max_dmdt=269\n",
      "#139  t=8.88e-11 dt=1.61e-12 max_dmdt=258\n",
      "#140  t=9.05e-11 dt=1.61e-12 max_dmdt=246\n",
      "#141  t=9.21e-11 dt=1.61e-12 max_dmdt=235\n",
      "#142  t=9.37e-11 dt=1.61e-12 max_dmdt=225\n",
      "#143  t=9.53e-11 dt=1.61e-12 max_dmdt=215\n",
      "#144  t=9.77e-11 dt=2.41e-12 max_dmdt=202\n",
      "#145  t=1e-10    dt=2.41e-12 max_dmdt=188\n",
      "#146  t=1.03e-10 dt=2.41e-12 max_dmdt=175\n",
      "#147  t=1.05e-10 dt=2.41e-12 max_dmdt=162\n",
      "#148  t=1.07e-10 dt=2.41e-12 max_dmdt=151\n",
      "#149  t=1.1e-10  dt=2.41e-12 max_dmdt=140\n",
      "#150  t=1.12e-10 dt=2.41e-12 max_dmdt=129\n",
      "#151  t=1.15e-10 dt=2.41e-12 max_dmdt=120\n",
      "#152  t=1.17e-10 dt=2.41e-12 max_dmdt=111\n",
      "#153  t=1.19e-10 dt=2.41e-12 max_dmdt=103\n",
      "#154  t=1.22e-10 dt=2.41e-12 max_dmdt=94.9\n",
      "#155  t=1.24e-10 dt=2.41e-12 max_dmdt=87.7\n",
      "#156  t=1.27e-10 dt=2.41e-12 max_dmdt=81\n",
      "#157  t=1.29e-10 dt=2.41e-12 max_dmdt=74.9\n",
      "#158  t=1.31e-10 dt=2.41e-12 max_dmdt=69.1\n",
      "#159  t=1.34e-10 dt=2.41e-12 max_dmdt=63.8\n",
      "#160  t=1.36e-10 dt=2.41e-12 max_dmdt=58.9\n",
      "#161  t=1.4e-10  dt=3.72e-12 max_dmdt=53.3\n",
      "#162  t=1.44e-10 dt=3.72e-12 max_dmdt=47.1\n",
      "#163  t=1.47e-10 dt=3.72e-12 max_dmdt=41.6\n",
      "#164  t=1.51e-10 dt=3.72e-12 max_dmdt=36.8\n",
      "#165  t=1.55e-10 dt=3.72e-12 max_dmdt=32.5\n",
      "#166  t=1.59e-10 dt=3.72e-12 max_dmdt=28.7\n",
      "#167  t=1.62e-10 dt=3.72e-12 max_dmdt=25.4\n",
      "#168  t=1.66e-10 dt=3.72e-12 max_dmdt=22.5\n",
      "#169  t=1.7e-10  dt=3.72e-12 max_dmdt=19.9\n",
      "#170  t=1.73e-10 dt=3.72e-12 max_dmdt=17.6\n",
      "#171  t=1.77e-10 dt=3.72e-12 max_dmdt=15.5\n",
      "#172  t=1.81e-10 dt=3.72e-12 max_dmdt=13.7\n",
      "#173  t=1.85e-10 dt=3.72e-12 max_dmdt=12.1\n",
      "#174  t=1.88e-10 dt=3.72e-12 max_dmdt=10.7\n",
      "#175  t=1.92e-10 dt=3.72e-12 max_dmdt=9.5\n",
      "#176  t=1.96e-10 dt=3.72e-12 max_dmdt=8.41\n",
      "#177  t=2e-10    dt=3.72e-12 max_dmdt=7.44\n",
      "#178  t=2.03e-10 dt=3.72e-12 max_dmdt=6.58\n",
      "#179  t=2.07e-10 dt=3.72e-12 max_dmdt=5.83\n",
      "#180  t=2.11e-10 dt=3.72e-12 max_dmdt=5.16\n",
      "#181  t=2.14e-10 dt=3.72e-12 max_dmdt=4.56\n",
      "#182  t=2.2e-10  dt=5.7e-12 max_dmdt=3.91\n",
      "#183  t=2.26e-10 dt=5.7e-12 max_dmdt=3.25\n",
      "#184  t=2.31e-10 dt=5.7e-12 max_dmdt=2.7\n",
      "#185  t=2.37e-10 dt=5.7e-12 max_dmdt=2.24\n",
      "#186  t=2.43e-10 dt=5.7e-12 max_dmdt=1.86\n",
      "#187  t=2.49e-10 dt=5.7e-12 max_dmdt=1.54\n",
      "#188  t=2.54e-10 dt=5.7e-12 max_dmdt=1.28\n",
      "#189  t=2.6e-10  dt=5.7e-12 max_dmdt=1.07\n",
      "#190  t=2.66e-10 dt=5.7e-12 max_dmdt=0.886\n",
      "#191  t=2.71e-10 dt=5.7e-12 max_dmdt=0.737\n",
      "#192  t=2.77e-10 dt=5.7e-12 max_dmdt=0.614\n",
      "#193  t=2.83e-10 dt=5.7e-12 max_dmdt=0.511\n",
      "#194  t=2.89e-10 dt=5.7e-12 max_dmdt=0.425\n",
      "#195  t=2.94e-10 dt=5.7e-12 max_dmdt=0.354\n",
      "#196  t=3e-10    dt=5.7e-12 max_dmdt=0.295\n",
      "#197  t=3.06e-10 dt=5.7e-12 max_dmdt=0.246\n",
      "#198  t=3.11e-10 dt=5.7e-12 max_dmdt=0.205\n",
      "#199  t=3.2e-10  dt=8.66e-12 max_dmdt=0.163\n",
      "#200  t=3.29e-10 dt=8.66e-12 max_dmdt=0.123\n",
      "#201  t=3.37e-10 dt=8.66e-12 max_dmdt=0.0936\n",
      "#202  t=3.46e-10 dt=8.66e-12 max_dmdt=0.071\n",
      "#203  t=3.55e-10 dt=8.66e-12 max_dmdt=0.0539\n",
      "#204  t=3.63e-10 dt=8.66e-12 max_dmdt=0.041\n",
      "#205  t=3.72e-10 dt=8.66e-12 max_dmdt=0.0311\n",
      "#206  t=3.81e-10 dt=8.66e-12 max_dmdt=0.0236\n",
      "#207  t=3.89e-10 dt=8.66e-12 max_dmdt=0.018\n"
     ]
    },
    {
     "name": "stdout",
     "output_type": "stream",
     "text": [
      "#208  t=3.98e-10 dt=8.66e-12 max_dmdt=0.0137\n",
      "#209  t=4.07e-10 dt=8.66e-12 max_dmdt=0.0104\n",
      "#210  t=4.2e-10  dt=1.36e-11 max_dmdt=0.0073\n"
     ]
    }
   ],
   "source": [
    "# NBVAL_IGNORE_OUTPUT\n",
    "# Initialise the system.\n",
    "sim.set_m(m_init)\n",
    "\n",
    "# Relax the system to its equilibrium state.\n",
    "sim.driver.relax(dt=1e-13, stopping_dmdt=0.01, max_steps=5000, save_m_steps=None, save_vtk_steps=None)"
   ]
  },
  {
   "cell_type": "markdown",
   "metadata": {},
   "source": [
    "After the system is relaxed, the magnetisation profile can be plotted."
   ]
  },
  {
   "cell_type": "code",
   "execution_count": 6,
   "metadata": {},
   "outputs": [
    {
     "data": {
      "text/plain": [
       "<matplotlib.legend.Legend at 0x119de3780>"
      ]
     },
     "execution_count": 6,
     "metadata": {},
     "output_type": "execute_result"
    },
    {
     "data": {
      "image/png": "[encoded data removed]",
      "text/plain": [
       "<Figure size 720x432 with 1 Axes>"
      ]
     },
     "metadata": {
      "needs_background": "light"
     },
     "output_type": "display_data"
    }
   ],
   "source": [
    "#NBVAL_IGNORE_OUTPUT\n",
    "m = np.copy(sim.spin)\n",
    "\n",
    "m.shape = (-1, 3)\n",
    "\n",
    "mx = m[:, 0]\n",
    "my = m[:, 1]\n",
    "mz = m[:, 2]\n",
    "\n",
    "x_array = np.arange(0, L, dx)\n",
    "\n",
    "plt.figure(figsize=(10,6))\n",
    "plt.plot(x_array, mx, label='mx')\n",
    "plt.plot(x_array, my, label='my')\n",
    "plt.plot(x_array, mz, label='mz')\n",
    "plt.xlabel('x (nm)')\n",
    "plt.ylabel('<m>')\n",
    "plt.xlim([0.4*L, 0.6*L])\n",
    "plt.ylim([-1, 1])\n",
    "plt.grid()\n",
    "plt.legend()"
   ]
  }
 ],
 "metadata": {
  "anaconda-cloud": {},
  "kernelspec": {
   "display_name": "Python 3",
   "language": "python",
   "name": "python3"
  },
  "language_info": {
   "codemirror_mode": {
    "name": "ipython",
    "version": 3
   },
   "file_extension": ".py",
   "mimetype": "text/x-python",
   "name": "python",
   "nbconvert_exporter": "python",
   "pygments_lexer": "ipython3",
   "version": "3.7.2"
  }
 },
 "nbformat": 4,
 "nbformat_minor": 1
}
