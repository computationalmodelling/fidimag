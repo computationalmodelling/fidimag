{
 "cells": [
  {
   "cell_type": "markdown",
   "metadata": {},
   "source": [
    "# Simulating an Anisotropic Grain Structure"
   ]
  },
  {
   "cell_type": "code",
   "execution_count": 1,
   "metadata": {},
   "outputs": [],
   "source": [
    "import fidimag\n",
    "from scipy.spatial import cKDTree\n",
    "import numpy as np"
   ]
  },
  {
   "cell_type": "markdown",
   "metadata": {},
   "source": [
    "Here we set up a simple test system to show how to simulate magnetic grains which have different anisotropy orientations and strengths."
   ]
  },
  {
   "cell_type": "code",
   "execution_count": 2,
   "metadata": {},
   "outputs": [],
   "source": [
    "A=1.3e-11\n",
    "Ms=8.6e5\n",
    "n = 40\n",
    "d = 5\n",
    "\n",
    "mesh = fidimag.common.CuboidMesh(nx=n, ny=n, nz=1, dx=d, dy=d, dz=d, unit_length=1e-9, periodicity=(False, False, False))\n",
    "sim = fidimag.micro.Sim(mesh, name=\"Grains\", driver='steepest_descent')\n",
    "sim.alpha = 1.0\n",
    "# Create positions to be grain centres, and create a cKDTree to \n",
    "# perform Voronoi Tesselation\n",
    "np.random.seed(10)\n",
    "Ngrains = 15\n",
    "grain_centres = np.random.uniform(0, n*d, (Ngrains, 2))\n",
    "voronoi_kdtree = cKDTree(grain_centres)\n",
    "\n",
    "# Define Anisotropy Strength\n",
    "Ku = 1e6\n",
    "# Generate random anisotropy axes\n",
    "axes = np.random.uniform(-1, 1, (Ngrains, 3))\n",
    "# Weight them towards +z - assume grains oriented along field cooled direction\n",
    "axes[:, 2] += 1.0\n",
    "# Normalise\n",
    "axes /= np.linalg.norm(axes, axis=1)[:, np.newaxis]\n",
    "# Generate a normal distribution of anisotropy strengths:\n",
    "strengths = np.random.normal(Ku, Ku*0.2, Ngrains)\n",
    "\n",
    "# We then use the cKDTree in two functions. We get the x, y position\n",
    "# of each micromagnetic cell, and query the tree for the region that\n",
    "# the cell sits in. The functions then return the axis and strength\n",
    "# at that region index.\n",
    "\n",
    "def K_axis(pos):\n",
    "    x, y, z = pos\n",
    "    _, test_point_regions = voronoi_kdtree.query(np.array([[x, y]]), k=1)\n",
    "    region = test_point_regions[0]\n",
    "    return axes[region]\n",
    "\n",
    "def K_mag(pos):\n",
    "    x, y, z = pos\n",
    "    _, test_point_regions = voronoi_kdtree.query(np.array([[x, y]]), k=1)\n",
    "    region = test_point_regions[0]\n",
    "    return strengths[region]"
   ]
  },
  {
   "cell_type": "code",
   "execution_count": 3,
   "metadata": {},
   "outputs": [],
   "source": [
    "sim.set_Ms(Ms)\n",
    "sim.set_m((0, 0, 1), normalise=True)\n",
    "\n",
    "anisotropy = fidimag.micro.UniaxialAnisotropy(K_mag, K_axis)\n",
    "sim.add(anisotropy)\n",
    "sim.add(fidimag.micro.UniformExchange(A))\n",
    "sim.add(fidimag.micro.Demag(pbc_2d=True))"
   ]
  },
  {
   "cell_type": "markdown",
   "metadata": {},
   "source": [
    "To check that this looks sensible, we plot the strength of the anisotropy across the whole sample in each direction:"
   ]
  },
  {
   "cell_type": "code",
   "execution_count": 4,
   "metadata": {},
   "outputs": [
    {
     "data": {
      "image/png": "[encoded data removed]",
      "text/plain": [
       "<Figure size 360x216 with 6 Axes>"
      ]
     },
     "metadata": {
      "needs_background": "light"
     },
     "output_type": "display_data"
    }
   ],
   "source": [
    "#NBVAL_IGNORE_OUTPUT\n",
    "import matplotlib.pyplot as plt\n",
    "from mpl_toolkits.axes_grid1 import ImageGrid\n",
    "\n",
    "strength_x = anisotropy._axis[0::3].reshape(n, n) * anisotropy._Ku.reshape(n, n)\n",
    "strength_y = anisotropy._axis[1::3].reshape(n, n) * anisotropy._Ku.reshape(n, n)\n",
    "strength_z = anisotropy._axis[2::3].reshape(n, n) * anisotropy._Ku.reshape(n, n)\n",
    "\n",
    "maxs = np.max([np.max(np.abs(strength_x)),\n",
    "               np.max(np.abs(strength_y)),\n",
    "               np.max(np.abs(strength_z))])\n",
    "\n",
    "\n",
    "\n",
    "fig = plt.figure(figsize=(5, 3))\n",
    "\n",
    "grid = ImageGrid(fig, 111,          # as in plt.subplot(111)\n",
    "                 nrows_ncols=(1,3),\n",
    "                 axes_pad=0.15,\n",
    "                 share_all=True,\n",
    "                 cbar_location=\"right\",\n",
    "                 cbar_mode=\"single\",\n",
    "                 cbar_size=\"7%\",\n",
    "                 cbar_pad=0.15,\n",
    "                 )\n",
    "\n",
    "axes = [axis for axis in grid]\n",
    "\n",
    "\n",
    "axes[0].imshow(strength_x, origin='lower', cmap='RdBu', vmin=-maxs, vmax=maxs, extent=[0, n*d, 0, n*d])\n",
    "axes[1].imshow(strength_y, origin='lower', cmap='RdBu', vmin=-maxs, vmax=maxs, extent=[0, n*d, 0, n*d])\n",
    "im = axes[2].imshow(strength_z, origin='lower', cmap='RdBu', vmin=-maxs, vmax=maxs, extent=[0, n*d, 0, n*d])\n",
    "axes[2].cax.colorbar(im)\n",
    "axes[2].cax.toggle_label(True)\n",
    "\n",
    "axes[0].set_title(\"$K_x$\")\n",
    "axes[1].set_title(\"$K_y$\")\n",
    "axes[2].set_title(\"$K_z$\")\n",
    "\n",
    "plt.savefig(\"Anisotropy.png\", dpi=600)\n"
   ]
  },
  {
   "cell_type": "markdown",
   "metadata": {},
   "source": [
    "We can see that we have a granular structure in the anisotropy. We now simply minimise the system and plot the magnetisation:"
   ]
  },
  {
   "cell_type": "code",
   "execution_count": 5,
   "metadata": {},
   "outputs": [
    {
     "name": "stdout",
     "output_type": "stream",
     "text": [
      "#0    max_tau=0.0001   max_dm=0.000171  \n",
      "#2000 max_tau=0.0001   max_dm=0.000163  \n",
      "#4000 max_tau=0.0001   max_dm=0.000137  \n",
      "#6000 max_tau=0.0001   max_dm=0.000142  \n",
      "#8000 max_tau=0.0001   max_dm=0.000143  \n",
      "#10000 max_tau=0.0001   max_dm=0.000131  \n",
      "#11820 max_tau=0.0001   max_dm=0.0001    \n",
      "Done\n"
     ]
    }
   ],
   "source": [
    "#NBVAL_IGNORE_OUTPUT\n",
    "sim.driver.minimise(max_steps=20000, stopping_dm=1e-4, initial_t_step=1e-4, log_every=2000)\n",
    "print('Done')"
   ]
  },
  {
   "cell_type": "markdown",
   "metadata": {},
   "source": [
    "The remanent Magnetisation in the z-direction is then:"
   ]
  },
  {
   "cell_type": "code",
   "execution_count": 6,
   "metadata": {},
   "outputs": [
    {
     "data": {
      "image/png": "[encoded data removed]",
      "text/plain": [
       "<Figure size 720x360 with 6 Axes>"
      ]
     },
     "metadata": {
      "needs_background": "light"
     },
     "output_type": "display_data"
    }
   ],
   "source": [
    "#NBVAL_IGNORE_OUTPUT\n",
    "fidimag.common.plot(sim)"
   ]
  },
  {
   "cell_type": "code",
   "execution_count": 7,
   "metadata": {},
   "outputs": [
    {
     "name": "stdout",
     "output_type": "stream",
     "text": [
      "681223.4133387426\n"
     ]
    }
   ],
   "source": [
    "remanence = np.mean(sim.spin[2::3])*Ms\n",
    "print(remanence)"
   ]
  }
 ],
 "metadata": {
  "kernelspec": {
   "display_name": "Python 3",
   "language": "python",
   "name": "python3"
  },
  "language_info": {
   "codemirror_mode": {
    "name": "ipython",
    "version": 3
   },
   "file_extension": ".py",
   "mimetype": "text/x-python",
   "name": "python",
   "nbconvert_exporter": "python",
   "pygments_lexer": "ipython3",
   "version": "3.7.2"
  }
 },
 "nbformat": 4,
 "nbformat_minor": 2
}
